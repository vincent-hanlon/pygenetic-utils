{
 "cells": [
  {
   "cell_type": "code",
   "execution_count": 2,
   "metadata": {},
   "outputs": [],
   "source": [
    "import pandas as pd\n",
    "import re\n",
    "import numpy as np\n",
    "import sys"
   ]
  },
  {
   "cell_type": "code",
   "execution_count": 3,
   "metadata": {},
   "outputs": [],
   "source": [
    "cig=pd.read_csv(\"/home/vcth2/\" + sys.argv[1], sep=\"\\t\", header=None)\n",
    "cig.columns=[\"chr\", \"start\", \"cigar\"]"
   ]
  },
  {
   "cell_type": "code",
   "execution_count": 4,
   "metadata": {},
   "outputs": [],
   "source": [
    "def where_deletions(chr,start,cigar,min_read_length=1000):\n",
    "    # I did verify that overall this fn churns out deletions with the right coordinates\n",
    "    # ultimately this should perhaps also be done with insertions\n",
    "\n",
    "    # This subfn finds the deletions, sums all previous cigar numbers to get the start position (within the read), and then adds the chromosome and read starts\n",
    "    def coords(numbers,index, chr, read_start):\n",
    "        start=np.sum(numbers[0:index]) + read_start - 1\n",
    "        end=start+numbers[index]\n",
    "        return[chr,start, end]\n",
    "    \n",
    "    # Splitting the cigar string either into one list of numbers and one list of letters, where corresponding numbers/letters have the same index\n",
    "    numbers=re.split(r'[A-Z]', cigar)\n",
    "    letters=re.split(r'[0-9]+', cigar)\n",
    "    numbers.pop(-1)\n",
    "    letters.pop(0)\n",
    "    numbers=[int(x) for x in numbers]\n",
    "\n",
    "    if sum(numbers)> min_read_length:\n",
    "        \n",
    "        # Now using numpy to find insertions. I want to remove insertions because they will inflate genomic coordinates relative to the reference genome\n",
    "        letters=np.array(letters)\n",
    "        numbers=np.array(numbers)\n",
    "        Is=np.where((letters==\"I\") | (letters==\"S\"))[0].tolist()\n",
    "        letters=np.delete(letters,Is)\n",
    "        numbers=np.delete(numbers,Is)\n",
    "        \n",
    "        # Now I just need to apply it to every deletion\n",
    "        deletion_bed=pd.DataFrame([coords(numbers, x, chr, start) for x in np.where(letters==\"D\")[0].tolist()])\n",
    "        return(deletion_bed)"
   ]
  }
 ],
 "metadata": {
  "jupytext": {
   "formats": "ipynb,py"
  },
  "kernelspec": {
   "display_name": "py3",
   "language": "python",
   "name": "python3"
  },
  "language_info": {
   "codemirror_mode": {
    "name": "ipython",
    "version": 3
   },
   "file_extension": ".py",
   "mimetype": "text/x-python",
   "name": "python",
   "nbconvert_exporter": "python",
   "pygments_lexer": "ipython3",
   "version": "3.12.2"
  }
 },
 "nbformat": 4,
 "nbformat_minor": 2
}
