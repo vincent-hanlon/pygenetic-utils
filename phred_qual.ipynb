{
 "cells": [
  {
   "cell_type": "code",
   "execution_count": 49,
   "metadata": {},
   "outputs": [],
   "source": [
    "from math import log\n",
    "from math import *\n",
    "import sys"
   ]
  },
  {
   "cell_type": "markdown",
   "metadata": {},
   "source": [
    "This is a way to read in an ASCII Phred string of base quealities for a read and calculate the (numeric) mean Phred score this corresponds to. This is quite useful information for filtering poor-quality reads."
   ]
  },
  {
   "cell_type": "code",
   "execution_count": 50,
   "metadata": {
    "lines_to_next_cell": 1
   },
   "outputs": [],
   "source": [
    "# Stolen from the interwebs\n",
    "# I think Phred + 33 is standard now, but the offset can be changed anyway \n",
    "# Returns the probability that the base is incorrect\n",
    "def Phred_ASCII_to_prob(symbol, offset=33):\n",
    "    prob=10**-((ord(symbol)-offset)/10.0)\n",
    "    return(prob)\n",
    "\n",
    "# Given an ASCII string representing per-base qualities, this returns the mean Phred quality of the read\n",
    "def mean_read_qual(QUAL, offset=33):\n",
    "    probabilities=[Phred_ASCII_to_prob(base,offset) for base in QUAL]\n",
    "    avg=sum(probabilities)/len(probabilities)\n",
    "    phred=round(-10*log(avg,10))\n",
    "    return(phred)"
   ]
  },
  {
   "cell_type": "markdown",
   "metadata": {},
   "source": [
    "The functions above do that for a single read/symbol. But the code below can be used in the pipe on the unix command line to filter a SAM file. It basically applies the ASCII-to-mean-Phred function line by line and only writes out those with a quality above some threshold. Obviously I should write this more nicely."
   ]
  },
  {
   "cell_type": "code",
   "execution_count": 51,
   "metadata": {
    "lines_to_next_cell": 2
   },
   "outputs": [
    {
     "ename": "KeyboardInterrupt",
     "evalue": "",
     "output_type": "error",
     "traceback": [
      "\u001b[0;31m---------------------------------------------------------------------------\u001b[0m",
      "\u001b[0;31mKeyboardInterrupt\u001b[0m                         Traceback (most recent call last)",
      "Cell \u001b[0;32mIn[51], line 1\u001b[0m\n\u001b[0;32m----> 1\u001b[0m \u001b[38;5;28;43;01mfor\u001b[39;49;00m\u001b[43m \u001b[49m\u001b[43mline\u001b[49m\u001b[43m \u001b[49m\u001b[38;5;129;43;01min\u001b[39;49;00m\u001b[43m \u001b[49m\u001b[43msys\u001b[49m\u001b[38;5;241;43m.\u001b[39;49m\u001b[43mstdin\u001b[49m\u001b[43m:\u001b[49m\n\u001b[1;32m      2\u001b[0m \u001b[43m    \u001b[49m\u001b[38;5;28;43;01mif\u001b[39;49;00m\u001b[43m \u001b[49m\u001b[38;5;129;43;01mnot\u001b[39;49;00m\u001b[43m \u001b[49m\u001b[43mline\u001b[49m\u001b[38;5;241;43m.\u001b[39;49m\u001b[43mstartswith\u001b[49m\u001b[43m(\u001b[49m\u001b[38;5;124;43m\"\u001b[39;49m\u001b[38;5;124;43m#\u001b[39;49m\u001b[38;5;124;43m\"\u001b[39;49m\u001b[43m)\u001b[49m\u001b[43m:\u001b[49m\n\u001b[1;32m      3\u001b[0m \u001b[43m        \u001b[49m\u001b[43mline\u001b[49m\u001b[38;5;241;43m=\u001b[39;49m\u001b[43mline\u001b[49m\u001b[38;5;241;43m.\u001b[39;49m\u001b[43msplit\u001b[49m\u001b[43m(\u001b[49m\u001b[38;5;124;43m\"\u001b[39;49m\u001b[38;5;130;43;01m\\t\u001b[39;49;00m\u001b[38;5;124;43m\"\u001b[39;49m\u001b[43m)\u001b[49m\n",
      "\u001b[0;31mKeyboardInterrupt\u001b[0m: "
     ]
    }
   ],
   "source": [
    "threshold=12\n",
    "\n",
    "for line in sys.stdin:\n",
    "    \n",
    "    if line.startswith(\"@\"):\n",
    "        sys.stdout.write(line)\n",
    "    \n",
    "    else:\n",
    "        fields=line.split(\"\\t\")\n",
    "\n",
    "        if len(fields[10]) > 1 and mean_read_qual(fields[10]) > threshold :\n",
    "            sys.stdout.write(line)\n"
   ]
  }
 ],
 "metadata": {
  "jupytext": {
   "formats": "ipynb,py"
  },
  "kernelspec": {
   "display_name": "py3",
   "language": "python",
   "name": "python3"
  },
  "language_info": {
   "codemirror_mode": {
    "name": "ipython",
    "version": 3
   },
   "file_extension": ".py",
   "mimetype": "text/x-python",
   "name": "python",
   "nbconvert_exporter": "python",
   "pygments_lexer": "ipython3",
   "version": "3.12.2"
  }
 },
 "nbformat": 4,
 "nbformat_minor": 2
}
