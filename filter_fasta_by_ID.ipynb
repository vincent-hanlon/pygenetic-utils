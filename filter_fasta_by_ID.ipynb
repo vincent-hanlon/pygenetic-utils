{
 "cells": [
  {
   "cell_type": "code",
   "execution_count": 1,
   "metadata": {},
   "outputs": [
    {
     "data": {
      "text/plain": [
       "3"
      ]
     },
     "execution_count": 1,
     "metadata": {},
     "output_type": "execute_result"
    }
   ],
   "source": [
    "\n",
    "import pandas as pd\n",
    "from Bio import SeqIO\n",
    "import re\n",
    "\n",
    "fasta_filename=\"/home/vcth2/test.fasta\"\n",
    "ID_list=\"/home/vcth2/ids.txt\"\n",
    "\n",
    "with open(ID_list) as f:\n",
    "    IDs = f.read().splitlines()\n",
    "\n",
    "tmp=[]\n",
    "\n",
    "# allows exact matches, but also if the ID has a .something ending or is followed by extra something=fields\n",
    "for record in SeqIO.parse(fasta_filename, \"fasta\"):\n",
    "\n",
    "    match_dot=any(re.match(\"^\"+ x +\"\\\\.\", record.id) for x in IDs)\n",
    "    match_space=any(re.match(\"^\"+ x +\"\\\\s\", record.id) for x in IDs)\n",
    "    match_end=any(re.match(\"^\"+ x +\"$\", record.id) for x in IDs)\n",
    "\n",
    "    if match_dot or match_space or match_end: \n",
    "        tmp.append(record)\n",
    "\n",
    "SeqIO.write(tmp, \"selected_records.fasta\", \"fasta\")\n",
    "\n",
    "                                                                   \n",
    "                                                                   \n",
    "                                                                   \n",
    "\n",
    "    \n",
    "\n"
   ]
  },
  {
   "cell_type": "code",
   "execution_count": null,
   "metadata": {},
   "outputs": [],
   "source": []
  }
 ],
 "metadata": {
  "kernelspec": {
   "display_name": "py3",
   "language": "python",
   "name": "python3"
  },
  "language_info": {
   "codemirror_mode": {
    "name": "ipython",
    "version": 3
   },
   "file_extension": ".py",
   "mimetype": "text/x-python",
   "name": "python",
   "nbconvert_exporter": "python",
   "pygments_lexer": "ipython3",
   "version": "3.12.2"
  }
 },
 "nbformat": 4,
 "nbformat_minor": 2
}
