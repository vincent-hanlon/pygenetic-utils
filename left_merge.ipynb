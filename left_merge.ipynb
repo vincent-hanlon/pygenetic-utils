{
 "cells": [
  {
   "cell_type": "code",
   "execution_count": 9,
   "metadata": {},
   "outputs": [],
   "source": [
    "import pandas as pd"
   ]
  },
  {
   "cell_type": "markdown",
   "metadata": {},
   "source": [
    "This notebook contains two functions implementing two different ways to combine overlapping genomic intervals. \n",
    "\n",
    "Intuitively, people often want to merge intervals that overlap for a certain fraction of their total length. But this is harder than it seems: A very small interval can end up merged into a very large interval if intermediate-sized intervals exist. I think probably the order of merging might matter for the final result.\n",
    "\n",
    "I've written two simple approaches to this problem: a left-merge, where only intervals with the same start coordinate are merged (which is quite common), and a merge approach that does require a fraction overlap between two intervals and says to hell with the consequences.\n",
    "\n",
    "Both take a BED file as input, and write a BED file after."
   ]
  },
  {
   "cell_type": "code",
   "execution_count": null,
   "metadata": {},
   "outputs": [],
   "source": [
    "def left_merge_intervals(bedfile, write=True):\n",
    "    bed=pd.read_csv(bedfile, sep=\"\\t\", header=None)\n",
    "    bed.columns=['chr','start','end']\n",
    "    bed=bed.sort_values(by=bed.columns.values.tolist())\n",
    "    bed.reset_index(drop=True, inplace=True)\n",
    "    group=bed.groupby(['chr','start'], as_index=False)\n",
    "    bed=group['end'].max()\n",
    "    bed['count']=group.size()['size']\n",
    "    if write:\n",
    "        bed.to_csv('left_merge.bed', sep=\"\\t\", header=False, index=False)\n",
    "    else:\n",
    "        return(bed)"
   ]
  },
  {
   "cell_type": "markdown",
   "metadata": {},
   "source": [
    "\n",
    "This function merges consecutive intervals (in a sorted bed file) for which the start and end coordinates are close together (some fraction of the total interval length). \n",
    "For messy intervals this is dangerous, because they can grow until every chromosome/scaffold is a single interval. However, for relatively simpler intervals it should hopefully work ok. Several passes are necessary to allow this sort of interval 'growth' to settle out."
   ]
  },
  {
   "cell_type": "code",
   "execution_count": 13,
   "metadata": {},
   "outputs": [],
   "source": [
    "def merge_overlapping_intervals(bedfile, fraction=0.1, passes=2):\n",
    "    \n",
    "    bed=left_merge_intervals(bedfile, write=False) \n",
    "\n",
    "    for j in range(passes):\n",
    "        bed.reset_index(drop=True, inplace=True)\n",
    "        for i in range(len(bed)-1):\n",
    "            size=bed.loc[i,'end']-bed.loc[i,'start']+1\n",
    "            startdiff=abs(bed.loc[i,'start'] - bed.loc[i+1, 'start'])\n",
    "            enddiff=abs(bed.loc[i,'end'] - bed.loc[i+1, 'end'])\n",
    "\n",
    "            if (startdiff <= size*fraction) and (enddiff<=size*fraction):\n",
    "                bed.loc[i+1,'count']=bed.loc[i+1,'count']+bed.loc[i,'count']\n",
    "                bed.loc[i+1,'start']=bed.loc[i,'start']\n",
    "                bed.loc[i+1,'end']=max(bed.loc[i,'end'],bed.loc[i+1,'end'])\n",
    "                bed=bed.drop(i)\n",
    "\n",
    "    bed.to_csv('merge_overlapping_f'+str(fraction) + '.bed', sep=\"\\t\", header=False, index=False)"
   ]
  },
  {
   "cell_type": "code",
   "execution_count": 15,
   "metadata": {},
   "outputs": [],
   "source": [
    "merge_overlapping_intervals(bedfile='/home/vcth2/rostoch_cigars_deletions_gte12_lte60.all.bed', passes=2)"
   ]
  },
  {
   "cell_type": "code",
   "execution_count": null,
   "metadata": {},
   "outputs": [],
   "source": []
  }
 ],
 "metadata": {
  "kernelspec": {
   "display_name": "py3",
   "language": "python",
   "name": "python3"
  },
  "language_info": {
   "codemirror_mode": {
    "name": "ipython",
    "version": 3
   },
   "file_extension": ".py",
   "mimetype": "text/x-python",
   "name": "python",
   "nbconvert_exporter": "python",
   "pygments_lexer": "ipython3",
   "version": "3.12.2"
  }
 },
 "nbformat": 4,
 "nbformat_minor": 2
}
