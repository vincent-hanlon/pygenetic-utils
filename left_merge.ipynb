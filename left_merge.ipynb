{
 "cells": [
  {
   "cell_type": "code",
   "execution_count": 9,
   "metadata": {},
   "outputs": [],
   "source": [
    "import pandas as pd"
   ]
  },
  {
   "cell_type": "code",
   "execution_count": 10,
   "metadata": {},
   "outputs": [],
   "source": [
    "def left_merge_intervals(bedfile, write=True):\n",
    "    bed=pd.read_csv(bedfile, sep=\"\\t\", header=None)\n",
    "    bed.columns=['chr','start','end']\n",
    "    bed=bed.sort_values(by=bed.columns.values.tolist())\n",
    "    bed.reset_index(drop=True, inplace=True)\n",
    "    group=bed.groupby(['chr','start'], as_index=False)\n",
    "    bed=group['end'].max()\n",
    "    bed['count']=group.size()['size']\n",
    "    if write:\n",
    "        bed.to_csv('left_merge.bed', sep=\"\\t\", header=False, index=False)\n",
    "    else:\n",
    "        return(bed)"
   ]
  },
  {
   "cell_type": "code",
   "execution_count": 11,
   "metadata": {},
   "outputs": [],
   "source": [
    "left_merge_intervals(\"cigars_lindley_deletions_gte12_lte600.bed\")"
   ]
  },
  {
   "cell_type": "code",
   "execution_count": 12,
   "metadata": {},
   "outputs": [],
   "source": [
    "bedfile=\"test.bed\"\n"
   ]
  },
  {
   "cell_type": "code",
   "execution_count": null,
   "metadata": {},
   "outputs": [],
   "source": []
  },
  {
   "cell_type": "code",
   "execution_count": 13,
   "metadata": {},
   "outputs": [],
   "source": [
    "\n",
    "# This function merges consecutive intervals (in a sorted bed file) for which the start and end coordinates are close together (some fraction of the total interval length)\n",
    "# For messy intervals this is dangerous, because they can grow until every chromosome/scaffold is a single interval\n",
    "# However, for relatively simpler intervals it should hopefully work ok\n",
    "# Several passes are necessary to allow this sort of interval 'growth' to settle out\n",
    "def merge_overlapping_intervals(bedfile, fraction=0.1, passes=2):\n",
    "    \n",
    "    bed=left_merge_intervals(bedfile, write=False) \n",
    "\n",
    "    for j in range(passes):\n",
    "        bed.reset_index(drop=True, inplace=True)\n",
    "        for i in range(len(bed)-1):\n",
    "            size=bed.loc[i,'end']-bed.loc[i,'start']+1\n",
    "            startdiff=abs(bed.loc[i,'start'] - bed.loc[i+1, 'start'])\n",
    "            enddiff=abs(bed.loc[i,'end'] - bed.loc[i+1, 'end'])\n",
    "\n",
    "            if (startdiff <= size*fraction) and (enddiff<=size*fraction):\n",
    "                bed.loc[i+1,'count']=bed.loc[i+1,'count']+bed.loc[i,'count']\n",
    "                bed.loc[i+1,'start']=bed.loc[i,'start']\n",
    "                bed.loc[i+1,'end']=max(bed.loc[i,'end'],bed.loc[i+1,'end'])\n",
    "                bed=bed.drop(i)\n",
    "\n",
    "    bed.to_csv('merge_overlapping_f'+str(fraction) + '.bed', sep=\"\\t\", header=False, index=False)"
   ]
  },
  {
   "cell_type": "code",
   "execution_count": 15,
   "metadata": {},
   "outputs": [],
   "source": [
    "merge_overlapping_intervals(bedfile='/home/vcth2/rostoch_cigars_deletions_gte12_lte60.all.bed', passes=2)"
   ]
  },
  {
   "cell_type": "code",
   "execution_count": null,
   "metadata": {},
   "outputs": [],
   "source": []
  }
 ],
 "metadata": {
  "kernelspec": {
   "display_name": "py3",
   "language": "python",
   "name": "python3"
  },
  "language_info": {
   "codemirror_mode": {
    "name": "ipython",
    "version": 3
   },
   "file_extension": ".py",
   "mimetype": "text/x-python",
   "name": "python",
   "nbconvert_exporter": "python",
   "pygments_lexer": "ipython3",
   "version": "3.12.2"
  }
 },
 "nbformat": 4,
 "nbformat_minor": 2
}
